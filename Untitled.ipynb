{
 "cells": [
  {
   "cell_type": "code",
   "execution_count": 22,
   "id": "4f39f4cd",
   "metadata": {},
   "outputs": [],
   "source": [
    "from woocommerce import API\n",
    "import pandas as pd\n",
    "\n",
    "wcapi = API(\n",
    "    url=\"https://naturalbastet.com\",\n",
    "    consumer_key=\"ck_64cf2aa1617a840571332c1acddb329917ab6f4f\",\n",
    "    consumer_secret=\"cs_9d8c14eaace5c796a73111ef36746a467e617a3f\",\n",
    "    version=\"wc/v3\"\n",
    ")\n",
    "\n",
    "df = pd.DataFrame(wcapi.get(\"orders\", params={\"per_page\": 100}).json())\n",
    "df.to_excel('Orders.xlsx')"
   ]
  },
  {
   "cell_type": "code",
   "execution_count": null,
   "id": "1a195c81",
   "metadata": {},
   "outputs": [],
   "source": []
  }
 ],
 "metadata": {
  "kernelspec": {
   "display_name": "Python 3 (ipykernel)",
   "language": "python",
   "name": "python3"
  },
  "language_info": {
   "codemirror_mode": {
    "name": "ipython",
    "version": 3
   },
   "file_extension": ".py",
   "mimetype": "text/x-python",
   "name": "python",
   "nbconvert_exporter": "python",
   "pygments_lexer": "ipython3",
   "version": "3.9.7"
  }
 },
 "nbformat": 4,
 "nbformat_minor": 5
}
